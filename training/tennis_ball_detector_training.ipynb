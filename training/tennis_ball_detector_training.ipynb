{
 "cells": [
  {
   "cell_type": "code",
   "execution_count": 5,
   "metadata": {},
   "outputs": [
    {
     "name": "stdout",
     "output_type": "stream",
     "text": [
      "Requirement already satisfied: roboflow in c:\\users\\arjun\\onedrive\\documents\\visual studio 2022\\python\\project_tennis\\.venv\\lib\\site-packages (1.1.58)\n",
      "Requirement already satisfied: certifi in c:\\users\\arjun\\onedrive\\documents\\visual studio 2022\\python\\project_tennis\\.venv\\lib\\site-packages (from roboflow) (2025.1.31)\n",
      "Requirement already satisfied: idna==3.7 in c:\\users\\arjun\\onedrive\\documents\\visual studio 2022\\python\\project_tennis\\.venv\\lib\\site-packages (from roboflow) (3.7)\n",
      "Requirement already satisfied: cycler in c:\\users\\arjun\\onedrive\\documents\\visual studio 2022\\python\\project_tennis\\.venv\\lib\\site-packages (from roboflow) (0.12.1)\n",
      "Requirement already satisfied: kiwisolver>=1.3.1 in c:\\users\\arjun\\onedrive\\documents\\visual studio 2022\\python\\project_tennis\\.venv\\lib\\site-packages (from roboflow) (1.4.8)\n",
      "Requirement already satisfied: matplotlib in c:\\users\\arjun\\onedrive\\documents\\visual studio 2022\\python\\project_tennis\\.venv\\lib\\site-packages (from roboflow) (3.10.1)\n",
      "Requirement already satisfied: numpy>=1.18.5 in c:\\users\\arjun\\onedrive\\documents\\visual studio 2022\\python\\project_tennis\\.venv\\lib\\site-packages (from roboflow) (2.2.4)\n",
      "Requirement already satisfied: opencv-python-headless==4.10.0.84 in c:\\users\\arjun\\onedrive\\documents\\visual studio 2022\\python\\project_tennis\\.venv\\lib\\site-packages (from roboflow) (4.10.0.84)\n",
      "Requirement already satisfied: Pillow>=7.1.2 in c:\\users\\arjun\\onedrive\\documents\\visual studio 2022\\python\\project_tennis\\.venv\\lib\\site-packages (from roboflow) (11.1.0)\n",
      "Requirement already satisfied: pillow-heif>=0.18.0 in c:\\users\\arjun\\onedrive\\documents\\visual studio 2022\\python\\project_tennis\\.venv\\lib\\site-packages (from roboflow) (0.22.0)\n",
      "Requirement already satisfied: python-dateutil in c:\\users\\arjun\\onedrive\\documents\\visual studio 2022\\python\\project_tennis\\.venv\\lib\\site-packages (from roboflow) (2.9.0.post0)\n",
      "Requirement already satisfied: python-dotenv in c:\\users\\arjun\\onedrive\\documents\\visual studio 2022\\python\\project_tennis\\.venv\\lib\\site-packages (from roboflow) (1.0.1)\n",
      "Requirement already satisfied: requests in c:\\users\\arjun\\onedrive\\documents\\visual studio 2022\\python\\project_tennis\\.venv\\lib\\site-packages (from roboflow) (2.32.3)\n",
      "Requirement already satisfied: six in c:\\users\\arjun\\onedrive\\documents\\visual studio 2022\\python\\project_tennis\\.venv\\lib\\site-packages (from roboflow) (1.17.0)\n",
      "Requirement already satisfied: urllib3>=1.26.6 in c:\\users\\arjun\\onedrive\\documents\\visual studio 2022\\python\\project_tennis\\.venv\\lib\\site-packages (from roboflow) (2.3.0)\n",
      "Requirement already satisfied: tqdm>=4.41.0 in c:\\users\\arjun\\onedrive\\documents\\visual studio 2022\\python\\project_tennis\\.venv\\lib\\site-packages (from roboflow) (4.67.1)\n",
      "Requirement already satisfied: PyYAML>=5.3.1 in c:\\users\\arjun\\onedrive\\documents\\visual studio 2022\\python\\project_tennis\\.venv\\lib\\site-packages (from roboflow) (6.0.2)\n",
      "Requirement already satisfied: requests-toolbelt in c:\\users\\arjun\\onedrive\\documents\\visual studio 2022\\python\\project_tennis\\.venv\\lib\\site-packages (from roboflow) (1.0.0)\n",
      "Requirement already satisfied: filetype in c:\\users\\arjun\\onedrive\\documents\\visual studio 2022\\python\\project_tennis\\.venv\\lib\\site-packages (from roboflow) (1.2.0)\n",
      "Requirement already satisfied: colorama in c:\\users\\arjun\\onedrive\\documents\\visual studio 2022\\python\\project_tennis\\.venv\\lib\\site-packages (from tqdm>=4.41.0->roboflow) (0.4.6)\n",
      "Requirement already satisfied: contourpy>=1.0.1 in c:\\users\\arjun\\onedrive\\documents\\visual studio 2022\\python\\project_tennis\\.venv\\lib\\site-packages (from matplotlib->roboflow) (1.3.1)\n",
      "Requirement already satisfied: fonttools>=4.22.0 in c:\\users\\arjun\\onedrive\\documents\\visual studio 2022\\python\\project_tennis\\.venv\\lib\\site-packages (from matplotlib->roboflow) (4.56.0)\n",
      "Requirement already satisfied: packaging>=20.0 in c:\\users\\arjun\\onedrive\\documents\\visual studio 2022\\python\\project_tennis\\.venv\\lib\\site-packages (from matplotlib->roboflow) (24.2)\n",
      "Requirement already satisfied: pyparsing>=2.3.1 in c:\\users\\arjun\\onedrive\\documents\\visual studio 2022\\python\\project_tennis\\.venv\\lib\\site-packages (from matplotlib->roboflow) (3.2.1)\n",
      "Requirement already satisfied: charset-normalizer<4,>=2 in c:\\users\\arjun\\onedrive\\documents\\visual studio 2022\\python\\project_tennis\\.venv\\lib\\site-packages (from requests->roboflow) (3.4.1)\n",
      "Note: you may need to restart the kernel to use updated packages.\n"
     ]
    }
   ],
   "source": [
    "%pip install roboflow"
   ]
  },
  {
   "cell_type": "code",
   "execution_count": null,
   "metadata": {},
   "outputs": [
    {
     "name": "stdout",
     "output_type": "stream",
     "text": [
      "loading Roboflow workspace...\n",
      "loading Roboflow project...\n"
     ]
    },
    {
     "name": "stderr",
     "output_type": "stream",
     "text": [
      "Downloading Dataset Version Zip in tennis-ball-detection-6 to yolov5pytorch:: 100%|██████████| 52040/52040 [00:02<00:00, 24075.82it/s]"
     ]
    },
    {
     "name": "stdout",
     "output_type": "stream",
     "text": [
      "\n"
     ]
    },
    {
     "name": "stderr",
     "output_type": "stream",
     "text": [
      "\n",
      "Extracting Dataset Version Zip to tennis-ball-detection-6 in yolov5pytorch:: 100%|██████████| 1168/1168 [00:00<00:00, 2147.84it/s]\n"
     ]
    }
   ],
   "source": [
    "# Get Dataset from Roboflow\n",
    "from roboflow import Roboflow\n",
    "rf = Roboflow(api_key=\"API-KEY\")\n",
    "project = rf.workspace(\"viren-dhanwani\").project(\"tennis-ball-detection\")\n",
    "version = project.version(6)\n",
    "dataset = version.download(\"yolov5\")"
   ]
  },
  {
   "cell_type": "code",
   "execution_count": 7,
   "metadata": {},
   "outputs": [],
   "source": [
    "import shutil"
   ]
  },
  {
   "cell_type": "code",
   "execution_count": null,
   "metadata": {},
   "outputs": [],
   "source": [
    "shutil.move(\"tennis-ball-detection-6/train\",\n",
    "            \"tennis-ball-detection-6/tennis-ball-detection-6/train\")\n",
    "\n",
    "shutil.move(\"tennis-ball-detection-6/test\",\n",
    "            \"tennis-ball-detection-6/tennis-ball-detection-6/test\")\n",
    "\n",
    "shutil.move(\"tennis-ball-detection-6/valid\",\n",
    "            \"tennis-ball-detection-6/tennis-ball-detection-6/valid\")"
   ]
  }
 ],
 "metadata": {
  "kernelspec": {
   "display_name": ".venv",
   "language": "python",
   "name": "python3"
  },
  "language_info": {
   "codemirror_mode": {
    "name": "ipython",
    "version": 3
   },
   "file_extension": ".py",
   "mimetype": "text/x-python",
   "name": "python",
   "nbconvert_exporter": "python",
   "pygments_lexer": "ipython3",
   "version": "3.11.9"
  }
 },
 "nbformat": 4,
 "nbformat_minor": 2
}
